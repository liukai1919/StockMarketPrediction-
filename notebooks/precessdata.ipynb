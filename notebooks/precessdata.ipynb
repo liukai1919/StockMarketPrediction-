{
 "cells": [
  {
   "cell_type": "code",
   "execution_count": 1,
   "metadata": {},
   "outputs": [],
   "source": [
    "from transformers import pipeline\n",
    "import pandas as pd\n",
    "\n",
    "df_2008_2010 = pd.read_csv('../data/AAPL_news_data_2008-05-18_2010-01-01.csv')\n",
    "df_2010_2015 = pd.read_csv('../data/AAPL_news_data_2010-01-01_2015-01-01.csv')\n",
    "df_2015_2020 = pd.read_csv('../data/AAPL_news_data_2015-01-01_2020-01-01.csv')\n",
    "df_2020_2024 = pd.read_csv('../data/AAPL_news_data_2020-01-01_2024-01-01.csv')\n"
   ]
  },
  {
   "cell_type": "code",
   "execution_count": 2,
   "metadata": {},
   "outputs": [
    {
     "name": "stdout",
     "output_type": "stream",
     "text": [
      "<class 'pandas.core.frame.DataFrame'>\n",
      "RangeIndex: 6263 entries, 0 to 6262\n",
      "Data columns (total 7 columns):\n",
      " #   Column           Non-Null Count  Dtype  \n",
      "---  ------           --------------  -----  \n",
      " 0   title            6263 non-null   object \n",
      " 1   publish_on       6263 non-null   object \n",
      " 2   author           6263 non-null   int64  \n",
      " 3   author_name      6263 non-null   object \n",
      " 4   getty_image_url  1158 non-null   object \n",
      " 5   sentiment_score  0 non-null      float64\n",
      " 6   sentiment_label  0 non-null      float64\n",
      "dtypes: float64(2), int64(1), object(4)\n",
      "memory usage: 342.6+ KB\n"
     ]
    }
   ],
   "source": [
    "# combine all the data\n",
    "df_news = pd.concat([df_2008_2010, df_2010_2015, df_2015_2020, df_2020_2024], ignore_index=True)\n",
    "df_news.head()\n",
    "df_news.info()\n"
   ]
  },
  {
   "cell_type": "code",
   "execution_count": 3,
   "metadata": {},
   "outputs": [],
   "source": [
    "# pipe_mine = pipeline('sentiment-analysis',model='../models/distilbert-base-uncased-financial-finetune', device=0)\n",
    "pipe_mine = pipeline(\"text-classification\", model=\"mrm8488/distilroberta-finetuned-financial-news-sentiment-analysis\",device=0)     \n",
    "\n",
    "\n",
    "\n"
   ]
  },
  {
   "cell_type": "code",
   "execution_count": 4,
   "metadata": {},
   "outputs": [],
   "source": [
    "result_mine = pipe_mine(df_news['title'].tolist())\n"
   ]
  },
  {
   "cell_type": "code",
   "execution_count": 5,
   "metadata": {},
   "outputs": [
    {
     "name": "stdout",
     "output_type": "stream",
     "text": [
      "      label     score\n",
      "0   neutral  0.918329\n",
      "1  positive  0.995474\n",
      "2   neutral  0.999844\n",
      "3  negative  0.998136\n",
      "4   neutral  0.999879\n"
     ]
    }
   ],
   "source": [
    "df_mine = pd.DataFrame(result_mine)\n",
    "\n",
    "print(df_mine.head())\n",
    "\n",
    "\n"
   ]
  },
  {
   "cell_type": "code",
   "execution_count": 6,
   "metadata": {},
   "outputs": [],
   "source": [
    "df_mine['label'] = df_mine['label'].map({'negative': 0, 'neutral': 1, 'positive': 2})"
   ]
  },
  {
   "cell_type": "code",
   "execution_count": 7,
   "metadata": {},
   "outputs": [
    {
     "data": {
      "text/html": [
       "<div>\n",
       "<style scoped>\n",
       "    .dataframe tbody tr th:only-of-type {\n",
       "        vertical-align: middle;\n",
       "    }\n",
       "\n",
       "    .dataframe tbody tr th {\n",
       "        vertical-align: top;\n",
       "    }\n",
       "\n",
       "    .dataframe thead th {\n",
       "        text-align: right;\n",
       "    }\n",
       "</style>\n",
       "<table border=\"1\" class=\"dataframe\">\n",
       "  <thead>\n",
       "    <tr style=\"text-align: right;\">\n",
       "      <th></th>\n",
       "      <th>title</th>\n",
       "      <th>publish_on</th>\n",
       "      <th>author</th>\n",
       "      <th>author_name</th>\n",
       "      <th>getty_image_url</th>\n",
       "      <th>sentiment_score</th>\n",
       "      <th>sentiment_label</th>\n",
       "    </tr>\n",
       "  </thead>\n",
       "  <tbody>\n",
       "    <tr>\n",
       "      <th>0</th>\n",
       "      <td>FTN Midwest: Apple (NASDAQ:AAPL) remains our b...</td>\n",
       "      <td>2008-05-30T10:31:03-04:00</td>\n",
       "      <td>6383</td>\n",
       "      <td>Eli Hoffmann, SA News Editor</td>\n",
       "      <td>NaN</td>\n",
       "      <td>0.918329</td>\n",
       "      <td>1</td>\n",
       "    </tr>\n",
       "    <tr>\n",
       "      <th>1</th>\n",
       "      <td>Apple's (NASDAQ:AAPL) back-to-school promo wil...</td>\n",
       "      <td>2008-05-30T08:13:35-04:00</td>\n",
       "      <td>6383</td>\n",
       "      <td>Eli Hoffmann, SA News Editor</td>\n",
       "      <td>NaN</td>\n",
       "      <td>0.995474</td>\n",
       "      <td>2</td>\n",
       "    </tr>\n",
       "    <tr>\n",
       "      <th>2</th>\n",
       "      <td>New iPhone (NASDAQ:AAPL) patents reveal 1) A w...</td>\n",
       "      <td>2008-05-29T13:29:55-04:00</td>\n",
       "      <td>6383</td>\n",
       "      <td>Eli Hoffmann, SA News Editor</td>\n",
       "      <td>NaN</td>\n",
       "      <td>0.999844</td>\n",
       "      <td>1</td>\n",
       "    </tr>\n",
       "    <tr>\n",
       "      <th>3</th>\n",
       "      <td>Infineon's (IFX -12.85%) warning this morning ...</td>\n",
       "      <td>2008-05-29T11:07:50-04:00</td>\n",
       "      <td>6383</td>\n",
       "      <td>Eli Hoffmann, SA News Editor</td>\n",
       "      <td>NaN</td>\n",
       "      <td>0.998136</td>\n",
       "      <td>0</td>\n",
       "    </tr>\n",
       "    <tr>\n",
       "      <th>4</th>\n",
       "      <td>Hutchison Telecom (HTX) to sell iPhone (NASDAQ...</td>\n",
       "      <td>2008-05-29T10:59:38-04:00</td>\n",
       "      <td>6383</td>\n",
       "      <td>Eli Hoffmann, SA News Editor</td>\n",
       "      <td>NaN</td>\n",
       "      <td>0.999879</td>\n",
       "      <td>1</td>\n",
       "    </tr>\n",
       "  </tbody>\n",
       "</table>\n",
       "</div>"
      ],
      "text/plain": [
       "                                               title  \\\n",
       "0  FTN Midwest: Apple (NASDAQ:AAPL) remains our b...   \n",
       "1  Apple's (NASDAQ:AAPL) back-to-school promo wil...   \n",
       "2  New iPhone (NASDAQ:AAPL) patents reveal 1) A w...   \n",
       "3  Infineon's (IFX -12.85%) warning this morning ...   \n",
       "4  Hutchison Telecom (HTX) to sell iPhone (NASDAQ...   \n",
       "\n",
       "                  publish_on  author                   author_name  \\\n",
       "0  2008-05-30T10:31:03-04:00    6383  Eli Hoffmann, SA News Editor   \n",
       "1  2008-05-30T08:13:35-04:00    6383  Eli Hoffmann, SA News Editor   \n",
       "2  2008-05-29T13:29:55-04:00    6383  Eli Hoffmann, SA News Editor   \n",
       "3  2008-05-29T11:07:50-04:00    6383  Eli Hoffmann, SA News Editor   \n",
       "4  2008-05-29T10:59:38-04:00    6383  Eli Hoffmann, SA News Editor   \n",
       "\n",
       "  getty_image_url  sentiment_score  sentiment_label  \n",
       "0             NaN         0.918329                1  \n",
       "1             NaN         0.995474                2  \n",
       "2             NaN         0.999844                1  \n",
       "3             NaN         0.998136                0  \n",
       "4             NaN         0.999879                1  "
      ]
     },
     "execution_count": 7,
     "metadata": {},
     "output_type": "execute_result"
    }
   ],
   "source": [
    "df_news['sentiment_label'] = df_mine['label']\n",
    "df_news['sentiment_score'] = df_mine['score']\n",
    "df_news.head()\n",
    "\n"
   ]
  },
  {
   "cell_type": "code",
   "execution_count": 8,
   "metadata": {},
   "outputs": [],
   "source": [
    "# create positive_score and negative_score\n",
    "df_news['positive_score'] = df_news['sentiment_score'] * df_news['sentiment_label']\n",
    "df_news['negative_score'] = df_news['sentiment_score'] * (df_news['sentiment_label'] - 1)\n"
   ]
  },
  {
   "cell_type": "code",
   "execution_count": 9,
   "metadata": {},
   "outputs": [
    {
     "data": {
      "text/html": [
       "<div>\n",
       "<style scoped>\n",
       "    .dataframe tbody tr th:only-of-type {\n",
       "        vertical-align: middle;\n",
       "    }\n",
       "\n",
       "    .dataframe tbody tr th {\n",
       "        vertical-align: top;\n",
       "    }\n",
       "\n",
       "    .dataframe thead th {\n",
       "        text-align: right;\n",
       "    }\n",
       "</style>\n",
       "<table border=\"1\" class=\"dataframe\">\n",
       "  <thead>\n",
       "    <tr style=\"text-align: right;\">\n",
       "      <th></th>\n",
       "      <th>title</th>\n",
       "      <th>publish_on</th>\n",
       "      <th>author</th>\n",
       "      <th>author_name</th>\n",
       "      <th>sentiment_score</th>\n",
       "      <th>sentiment_label</th>\n",
       "      <th>positive_score</th>\n",
       "      <th>negative_score</th>\n",
       "      <th>Date</th>\n",
       "    </tr>\n",
       "  </thead>\n",
       "  <tbody>\n",
       "    <tr>\n",
       "      <th>0</th>\n",
       "      <td>FTN Midwest: Apple (NASDAQ:AAPL) remains our b...</td>\n",
       "      <td>2008-05-30T10:31:03-04:00</td>\n",
       "      <td>6383</td>\n",
       "      <td>Eli Hoffmann, SA News Editor</td>\n",
       "      <td>0.918329</td>\n",
       "      <td>1</td>\n",
       "      <td>0.918329</td>\n",
       "      <td>0.000000</td>\n",
       "      <td>2008-05-30</td>\n",
       "    </tr>\n",
       "    <tr>\n",
       "      <th>1</th>\n",
       "      <td>Apple's (NASDAQ:AAPL) back-to-school promo wil...</td>\n",
       "      <td>2008-05-30T08:13:35-04:00</td>\n",
       "      <td>6383</td>\n",
       "      <td>Eli Hoffmann, SA News Editor</td>\n",
       "      <td>0.995474</td>\n",
       "      <td>2</td>\n",
       "      <td>1.990949</td>\n",
       "      <td>0.995474</td>\n",
       "      <td>2008-05-30</td>\n",
       "    </tr>\n",
       "    <tr>\n",
       "      <th>2</th>\n",
       "      <td>New iPhone (NASDAQ:AAPL) patents reveal 1) A w...</td>\n",
       "      <td>2008-05-29T13:29:55-04:00</td>\n",
       "      <td>6383</td>\n",
       "      <td>Eli Hoffmann, SA News Editor</td>\n",
       "      <td>0.999844</td>\n",
       "      <td>1</td>\n",
       "      <td>0.999844</td>\n",
       "      <td>0.000000</td>\n",
       "      <td>2008-05-29</td>\n",
       "    </tr>\n",
       "    <tr>\n",
       "      <th>3</th>\n",
       "      <td>Infineon's (IFX -12.85%) warning this morning ...</td>\n",
       "      <td>2008-05-29T11:07:50-04:00</td>\n",
       "      <td>6383</td>\n",
       "      <td>Eli Hoffmann, SA News Editor</td>\n",
       "      <td>0.998136</td>\n",
       "      <td>0</td>\n",
       "      <td>0.000000</td>\n",
       "      <td>-0.998136</td>\n",
       "      <td>2008-05-29</td>\n",
       "    </tr>\n",
       "    <tr>\n",
       "      <th>4</th>\n",
       "      <td>Hutchison Telecom (HTX) to sell iPhone (NASDAQ...</td>\n",
       "      <td>2008-05-29T10:59:38-04:00</td>\n",
       "      <td>6383</td>\n",
       "      <td>Eli Hoffmann, SA News Editor</td>\n",
       "      <td>0.999879</td>\n",
       "      <td>1</td>\n",
       "      <td>0.999879</td>\n",
       "      <td>0.000000</td>\n",
       "      <td>2008-05-29</td>\n",
       "    </tr>\n",
       "  </tbody>\n",
       "</table>\n",
       "</div>"
      ],
      "text/plain": [
       "                                               title  \\\n",
       "0  FTN Midwest: Apple (NASDAQ:AAPL) remains our b...   \n",
       "1  Apple's (NASDAQ:AAPL) back-to-school promo wil...   \n",
       "2  New iPhone (NASDAQ:AAPL) patents reveal 1) A w...   \n",
       "3  Infineon's (IFX -12.85%) warning this morning ...   \n",
       "4  Hutchison Telecom (HTX) to sell iPhone (NASDAQ...   \n",
       "\n",
       "                  publish_on  author                   author_name  \\\n",
       "0  2008-05-30T10:31:03-04:00    6383  Eli Hoffmann, SA News Editor   \n",
       "1  2008-05-30T08:13:35-04:00    6383  Eli Hoffmann, SA News Editor   \n",
       "2  2008-05-29T13:29:55-04:00    6383  Eli Hoffmann, SA News Editor   \n",
       "3  2008-05-29T11:07:50-04:00    6383  Eli Hoffmann, SA News Editor   \n",
       "4  2008-05-29T10:59:38-04:00    6383  Eli Hoffmann, SA News Editor   \n",
       "\n",
       "   sentiment_score  sentiment_label  positive_score  negative_score       Date  \n",
       "0         0.918329                1        0.918329        0.000000 2008-05-30  \n",
       "1         0.995474                2        1.990949        0.995474 2008-05-30  \n",
       "2         0.999844                1        0.999844        0.000000 2008-05-29  \n",
       "3         0.998136                0        0.000000       -0.998136 2008-05-29  \n",
       "4         0.999879                1        0.999879        0.000000 2008-05-29  "
      ]
     },
     "execution_count": 9,
     "metadata": {},
     "output_type": "execute_result"
    }
   ],
   "source": [
    "df_news['Date'] = df_news['publish_on'].str[:10]\n",
    "df_news['Date'] = pd.to_datetime(df_news['Date'])\n",
    "df_news.drop(columns=['getty_image_url'], inplace=True)\n",
    "df_news.head()"
   ]
  },
  {
   "cell_type": "code",
   "execution_count": 10,
   "metadata": {},
   "outputs": [
    {
     "name": "stdout",
     "output_type": "stream",
     "text": [
      "<class 'pandas.core.frame.DataFrame'>\n",
      "RangeIndex: 6263 entries, 0 to 6262\n",
      "Data columns (total 9 columns):\n",
      " #   Column           Non-Null Count  Dtype         \n",
      "---  ------           --------------  -----         \n",
      " 0   title            6263 non-null   object        \n",
      " 1   publish_on       6263 non-null   object        \n",
      " 2   author           6263 non-null   int64         \n",
      " 3   author_name      6263 non-null   object        \n",
      " 4   sentiment_score  6263 non-null   float64       \n",
      " 5   sentiment_label  6263 non-null   int64         \n",
      " 6   positive_score   6263 non-null   float64       \n",
      " 7   negative_score   6263 non-null   float64       \n",
      " 8   Date             6263 non-null   datetime64[ns]\n",
      "dtypes: datetime64[ns](1), float64(3), int64(2), object(3)\n",
      "memory usage: 440.5+ KB\n"
     ]
    }
   ],
   "source": [
    "df_news.info()"
   ]
  },
  {
   "cell_type": "code",
   "execution_count": 11,
   "metadata": {},
   "outputs": [],
   "source": [
    "df_news.to_csv('../data/AAPL_news_data_sentiment.csv', index=False)"
   ]
  }
 ],
 "metadata": {
  "kernelspec": {
   "display_name": "LLM",
   "language": "python",
   "name": "python3"
  },
  "language_info": {
   "codemirror_mode": {
    "name": "ipython",
    "version": 3
   },
   "file_extension": ".py",
   "mimetype": "text/x-python",
   "name": "python",
   "nbconvert_exporter": "python",
   "pygments_lexer": "ipython3",
   "version": "3.11.10"
  }
 },
 "nbformat": 4,
 "nbformat_minor": 2
}
