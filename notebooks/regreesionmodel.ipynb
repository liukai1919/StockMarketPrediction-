{
 "cells": [
  {
   "cell_type": "code",
   "execution_count": 1,
   "metadata": {},
   "outputs": [],
   "source": [
    "import pandas as pd\n",
    "import numpy as np\n",
    "import matplotlib.pyplot as plt\n",
    "import seaborn as sns\n",
    "from sklearn.model_selection import train_test_split\n",
    "import xgboost as xgb\n",
    "from sklearn.metrics import mean_squared_error, r2_score\n",
    "from sklearn.model_selection import GridSearchCV\n",
    "from sklearn.preprocessing import MinMaxScaler, StandardScaler\n",
    "from sklearn.compose import ColumnTransformer\n",
    "from sklearn.pipeline import Pipeline\n",
    "from sklearn.exceptions import ConvergenceWarning\n",
    "import yfinance as yf\n",
    "import sys\n",
    "sys.path.append('/Users/kailiu/StockMarketPrediction-') \n",
    "import warnings\n",
    "warnings.filterwarnings(\"ignore\", category=ConvergenceWarning)\n"
   ]
  },
  {
   "cell_type": "markdown",
   "metadata": {},
   "source": [
    "### single parameter model"
   ]
  },
  {
   "cell_type": "code",
   "execution_count": 22,
   "metadata": {},
   "outputs": [
    {
     "name": "stderr",
     "output_type": "stream",
     "text": [
      "[*********************100%***********************]  7 of 7 completed\n"
     ]
    },
    {
     "data": {
      "text/html": [
       "<div>\n",
       "<style scoped>\n",
       "    .dataframe tbody tr th:only-of-type {\n",
       "        vertical-align: middle;\n",
       "    }\n",
       "\n",
       "    .dataframe tbody tr th {\n",
       "        vertical-align: top;\n",
       "    }\n",
       "\n",
       "    .dataframe thead th {\n",
       "        text-align: right;\n",
       "    }\n",
       "</style>\n",
       "<table border=\"1\" class=\"dataframe\">\n",
       "  <thead>\n",
       "    <tr style=\"text-align: right;\">\n",
       "      <th></th>\n",
       "      <th>Close</th>\n",
       "    </tr>\n",
       "    <tr>\n",
       "      <th>Date</th>\n",
       "      <th></th>\n",
       "    </tr>\n",
       "  </thead>\n",
       "  <tbody>\n",
       "    <tr>\n",
       "      <th>2010-01-04</th>\n",
       "      <td>7.643214</td>\n",
       "    </tr>\n",
       "    <tr>\n",
       "      <th>2010-01-05</th>\n",
       "      <td>7.656429</td>\n",
       "    </tr>\n",
       "    <tr>\n",
       "      <th>2010-01-06</th>\n",
       "      <td>7.534643</td>\n",
       "    </tr>\n",
       "    <tr>\n",
       "      <th>2010-01-07</th>\n",
       "      <td>7.520714</td>\n",
       "    </tr>\n",
       "    <tr>\n",
       "      <th>2010-01-08</th>\n",
       "      <td>7.570714</td>\n",
       "    </tr>\n",
       "  </tbody>\n",
       "</table>\n",
       "</div>"
      ],
      "text/plain": [
       "               Close\n",
       "Date                \n",
       "2010-01-04  7.643214\n",
       "2010-01-05  7.656429\n",
       "2010-01-06  7.534643\n",
       "2010-01-07  7.520714\n",
       "2010-01-08  7.570714"
      ]
     },
     "execution_count": 22,
     "metadata": {},
     "output_type": "execute_result"
    }
   ],
   "source": [
    "df = yf.download(['AAPL', 'TSLA', 'GOOGL', 'AMZN', 'MSFT','NVDA','META'], start='2010-01-01', end='2023-12-31')[['Close']]\n",
    "\n",
    "\n",
    "df.index.name = 'Date'\n",
    "\n",
    "# 展平多层列\n",
    "df.columns = ['_'.join(col).strip() for col in df.columns.values]\n",
    "\n",
    "# 转换为长格式\n",
    "df_reset = df.reset_index()\n",
    "long_df = pd.melt(\n",
    "    df_reset,\n",
    "    id_vars=['Date'],\n",
    "    var_name='Ticker_Price',\n",
    "    value_name='Close'\n",
    ")\n",
    "\n",
    "# 如果需要分离出 Price 和 Ticker 信息\n",
    "long_df[['Type', 'Ticker']] = long_df['Ticker_Price'].str.split('_', expand=True)\n",
    "long_df = long_df.drop(columns=['Ticker_Price'])\n",
    "\n",
    "\n",
    "long_df.drop(columns=['Type','Ticker'], inplace=True)\n",
    "long_df.set_index('Date', inplace=True)\n",
    "df = long_df.copy()\n",
    "df_multiple = df.copy()\n",
    "df.head()"
   ]
  },
  {
   "cell_type": "code",
   "execution_count": 20,
   "metadata": {},
   "outputs": [
    {
     "name": "stdout",
     "output_type": "stream",
     "text": [
      "Mean Squared Error: 30.29\n",
      "R-squared: 1.00\n",
      "Mean Absolute Error: 2.22\n"
     ]
    },
    {
     "name": "stderr",
     "output_type": "stream",
     "text": [
      "/opt/anaconda3/envs/LLM/lib/python3.11/site-packages/sklearn/base.py:493: UserWarning: X does not have valid feature names, but LinearRegression was fitted with feature names\n",
      "  warnings.warn(\n"
     ]
    }
   ],
   "source": [
    "from sklearn.metrics import mean_absolute_error\n",
    "from sklearn.model_selection import TimeSeriesSplit\n",
    "from sklearn.linear_model import LinearRegression\n",
    "# Assuming 'df' is your DataFrame with a 'Close' column\n",
    "# Create lag features for the last 10 days\n",
    "n_lags = 10\n",
    "for lag in range(1, n_lags + 1):\n",
    "    df[f'Lag_{lag}'] = df['Close'].shift(lag)\n",
    "\n",
    "df['target'] = df['Close'].shift(-1)\n",
    "# Drop rows with NaN values (due to lagging)\n",
    "df.dropna(inplace=True)\n",
    "\n",
    "# Prepare the dataset\n",
    "X = df[[f'Lag_{lag}' for lag in range(1, n_lags + 1)]]\n",
    "y = df['target']\n",
    "\n",
    "\n",
    "\n",
    "# Split the data into training and testing sets\n",
    "X_train, X_test, y_train, y_test = train_test_split(X, y, test_size=0.2, shuffle=False)\n",
    "\n",
    "# Train a linear regression model\n",
    "model = LinearRegression()\n",
    "model.fit(X_train, y_train)\n",
    "\n",
    "# Make predictions\n",
    "y_pred = model.predict(X_test)\n",
    "\n",
    "# Evaluate the model\n",
    "mse = mean_squared_error(y_test, y_pred)\n",
    "print(f'Mean Squared Error: {mse:.2f}')\n",
    "\n",
    "# Predict the next day's value using the last 10 days of data\n",
    "last_10_days = df['Close'].iloc[-n_lags:].values.reshape(1, -1)\n",
    "next_day_prediction = model.predict(last_10_days)\n",
    "r2 = r2_score(y_test, y_pred)\n",
    "print(f'R-squared: {r2:.2f}')\n",
    "mae = mean_absolute_error(y_test, y_pred)\n",
    "print(f'Mean Absolute Error: {mae:.2f}')\n",
    "\n",
    "\n"
   ]
  },
  {
   "cell_type": "markdown",
   "metadata": {},
   "source": [
    "### multiple parameter model"
   ]
  },
  {
   "cell_type": "code",
   "execution_count": 23,
   "metadata": {},
   "outputs": [
    {
     "data": {
      "text/html": [
       "<div>\n",
       "<style scoped>\n",
       "    .dataframe tbody tr th:only-of-type {\n",
       "        vertical-align: middle;\n",
       "    }\n",
       "\n",
       "    .dataframe tbody tr th {\n",
       "        vertical-align: top;\n",
       "    }\n",
       "\n",
       "    .dataframe thead th {\n",
       "        text-align: right;\n",
       "    }\n",
       "</style>\n",
       "<table border=\"1\" class=\"dataframe\">\n",
       "  <thead>\n",
       "    <tr style=\"text-align: right;\">\n",
       "      <th></th>\n",
       "      <th>Close</th>\n",
       "      <th>EMA</th>\n",
       "      <th>MACD</th>\n",
       "      <th>RSI</th>\n",
       "      <th>Buy_Signal</th>\n",
       "      <th>Sell_Signal</th>\n",
       "    </tr>\n",
       "    <tr>\n",
       "      <th>Date</th>\n",
       "      <th></th>\n",
       "      <th></th>\n",
       "      <th></th>\n",
       "      <th></th>\n",
       "      <th></th>\n",
       "      <th></th>\n",
       "    </tr>\n",
       "  </thead>\n",
       "  <tbody>\n",
       "    <tr>\n",
       "      <th>2010-01-04</th>\n",
       "      <td>7.643214</td>\n",
       "      <td>7.643214</td>\n",
       "      <td>0.000000</td>\n",
       "      <td>NaN</td>\n",
       "      <td>0</td>\n",
       "      <td>0</td>\n",
       "    </tr>\n",
       "    <tr>\n",
       "      <th>2010-01-05</th>\n",
       "      <td>7.656429</td>\n",
       "      <td>7.645617</td>\n",
       "      <td>0.001054</td>\n",
       "      <td>100.000000</td>\n",
       "      <td>0</td>\n",
       "      <td>1</td>\n",
       "    </tr>\n",
       "    <tr>\n",
       "      <th>2010-01-06</th>\n",
       "      <td>7.534643</td>\n",
       "      <td>7.625440</td>\n",
       "      <td>-0.007847</td>\n",
       "      <td>9.788567</td>\n",
       "      <td>1</td>\n",
       "      <td>0</td>\n",
       "    </tr>\n",
       "    <tr>\n",
       "      <th>2010-01-07</th>\n",
       "      <td>7.520714</td>\n",
       "      <td>7.606399</td>\n",
       "      <td>-0.015843</td>\n",
       "      <td>8.873044</td>\n",
       "      <td>1</td>\n",
       "      <td>0</td>\n",
       "    </tr>\n",
       "    <tr>\n",
       "      <th>2010-01-08</th>\n",
       "      <td>7.570714</td>\n",
       "      <td>7.599911</td>\n",
       "      <td>-0.017938</td>\n",
       "      <td>31.777433</td>\n",
       "      <td>0</td>\n",
       "      <td>0</td>\n",
       "    </tr>\n",
       "  </tbody>\n",
       "</table>\n",
       "</div>"
      ],
      "text/plain": [
       "               Close       EMA      MACD         RSI  Buy_Signal  Sell_Signal\n",
       "Date                                                                         \n",
       "2010-01-04  7.643214  7.643214  0.000000         NaN           0            0\n",
       "2010-01-05  7.656429  7.645617  0.001054  100.000000           0            1\n",
       "2010-01-06  7.534643  7.625440 -0.007847    9.788567           1            0\n",
       "2010-01-07  7.520714  7.606399 -0.015843    8.873044           1            0\n",
       "2010-01-08  7.570714  7.599911 -0.017938   31.777433           0            0"
      ]
     },
     "execution_count": 23,
     "metadata": {},
     "output_type": "execute_result"
    }
   ],
   "source": [
    "# calculate macd\n",
    "from utils.fianacialtools import calculate_macd, generate_signals\n",
    "\n",
    "\n",
    "\n",
    "\n",
    "df_multiple['EMA'] = df_multiple['Close'].ewm(span=10, adjust=False).mean()\n",
    "\n",
    "df_multiple['MACD'] = calculate_macd(df_multiple)\n",
    "\n",
    "df_multiple = generate_signals(df_multiple)\n",
    "\n",
    "df_multiple.head()\n",
    "\n"
   ]
  },
  {
   "cell_type": "code",
   "execution_count": 24,
   "metadata": {},
   "outputs": [
    {
     "name": "stdout",
     "output_type": "stream",
     "text": [
      "There are still NaN values in the DataFrame.\n"
     ]
    }
   ],
   "source": [
    "# set lookback days\n",
    "lookback_days = 10\n",
    "\n",
    "# create lag features\n",
    "for feature in ['Close', 'EMA', 'MACD', 'RSI', 'Buy_Signal', 'Sell_Signal']:\n",
    "    for lag in range(1, lookback_days + 1):\n",
    "        df_multiple[f'{feature}_lag_{lag}'] = df_multiple[feature].shift(lag)\n",
    "\n",
    "\n",
    "df_multiple['target'] = df_multiple['Close'].shift(-1)\n",
    "\n",
    "df_multiple.dropna(inplace=True)\n",
    "\n",
    "# Check for remaining NaN values\n",
    "if df.isnull().values.any():\n",
    "    print(\"There are still NaN values in the DataFrame.\")\n",
    "else:\n",
    "    print(\"All NaN values have been removed.\")\n"
   ]
  },
  {
   "cell_type": "code",
   "execution_count": 26,
   "metadata": {},
   "outputs": [
    {
     "name": "stdout",
     "output_type": "stream",
     "text": [
      "Index(['Close', 'EMA', 'MACD', 'RSI', 'Buy_Signal', 'Sell_Signal',\n",
      "       'Close_lag_1', 'Close_lag_2', 'Close_lag_3', 'Close_lag_4',\n",
      "       'Close_lag_5', 'Close_lag_6', 'Close_lag_7', 'Close_lag_8',\n",
      "       'Close_lag_9', 'Close_lag_10', 'EMA_lag_1', 'EMA_lag_2', 'EMA_lag_3',\n",
      "       'EMA_lag_4', 'EMA_lag_5', 'EMA_lag_6', 'EMA_lag_7', 'EMA_lag_8',\n",
      "       'EMA_lag_9', 'EMA_lag_10', 'MACD_lag_1', 'MACD_lag_2', 'MACD_lag_3',\n",
      "       'MACD_lag_4', 'MACD_lag_5', 'MACD_lag_6', 'MACD_lag_7', 'MACD_lag_8',\n",
      "       'MACD_lag_9', 'MACD_lag_10', 'RSI_lag_1', 'RSI_lag_2', 'RSI_lag_3',\n",
      "       'RSI_lag_4', 'RSI_lag_5', 'RSI_lag_6', 'RSI_lag_7', 'RSI_lag_8',\n",
      "       'RSI_lag_9', 'RSI_lag_10', 'Buy_Signal_lag_1', 'Buy_Signal_lag_2',\n",
      "       'Buy_Signal_lag_3', 'Buy_Signal_lag_4', 'Buy_Signal_lag_5',\n",
      "       'Buy_Signal_lag_6', 'Buy_Signal_lag_7', 'Buy_Signal_lag_8',\n",
      "       'Buy_Signal_lag_9', 'Buy_Signal_lag_10', 'Sell_Signal_lag_1',\n",
      "       'Sell_Signal_lag_2', 'Sell_Signal_lag_3', 'Sell_Signal_lag_4',\n",
      "       'Sell_Signal_lag_5', 'Sell_Signal_lag_6', 'Sell_Signal_lag_7',\n",
      "       'Sell_Signal_lag_8', 'Sell_Signal_lag_9', 'Sell_Signal_lag_10'],\n",
      "      dtype='object')\n"
     ]
    }
   ],
   "source": [
    "\n",
    "# prepare features and target\n",
    "features = [col for col in df_multiple.columns if col not in ['Close', 'target', 'Date']]  # 确保不包含目标列和日期列\n",
    "\n",
    "X = df_multiple.drop(columns=['target'])\n",
    "print(X.columns)\n",
    "y = df_multiple['target']\n",
    "\n",
    "# split data into training and testing sets\n",
    "from sklearn.model_selection import train_test_split\n",
    "X_multiple_train, X_multiple_test, y_multiple_train, y_multiple_test = train_test_split(X, y, test_size=0.2, shuffle=False)\n",
    "\n",
    "# train model\n",
    "from sklearn.linear_model import Lasso\n",
    "model = Lasso(alpha=0.01, random_state=42)\n",
    "model.fit(X_multiple_train, y_multiple_train)\n",
    "\n",
    "# predict\n",
    "y_multiple_pred = model.predict(X_multiple_test)\n",
    "\n"
   ]
  },
  {
   "cell_type": "code",
   "execution_count": 27,
   "metadata": {},
   "outputs": [
    {
     "name": "stdout",
     "output_type": "stream",
     "text": [
      "Mean Squared Error: 15.55\n",
      "Mean Absolute Error: 1.53\n",
      "R-squared: 1.00\n"
     ]
    }
   ],
   "source": [
    "# evaluate model\n",
    "multiple_mse = mean_squared_error(y_multiple_test, y_multiple_pred)\n",
    "print(f'Mean Squared Error: {multiple_mse:.2f}')\n",
    "multiple_mae = mean_absolute_error(y_multiple_test, y_multiple_pred)\n",
    "print(f'Mean Absolute Error: {multiple_mae:.2f}')\n",
    "multiple_r2 = r2_score(y_multiple_test, y_multiple_pred)\n",
    "print(f'R-squared: {multiple_r2:.2f}')\n",
    "\n",
    "\n"
   ]
  },
  {
   "cell_type": "code",
   "execution_count": 28,
   "metadata": {},
   "outputs": [
    {
     "data": {
      "text/plain": [
       "['../models/AAPL_multiple_parameter_model.pkl']"
      ]
     },
     "execution_count": 28,
     "metadata": {},
     "output_type": "execute_result"
    }
   ],
   "source": [
    "#save the model\n",
    "import joblib\n",
    "joblib.dump(model, '../models/AAPL_multiple_parameter_model.pkl')\n"
   ]
  }
 ],
 "metadata": {
  "kernelspec": {
   "display_name": "LLM",
   "language": "python",
   "name": "python3"
  },
  "language_info": {
   "codemirror_mode": {
    "name": "ipython",
    "version": 3
   },
   "file_extension": ".py",
   "mimetype": "text/x-python",
   "name": "python",
   "nbconvert_exporter": "python",
   "pygments_lexer": "ipython3",
   "version": "3.11.10"
  }
 },
 "nbformat": 4,
 "nbformat_minor": 2
}
